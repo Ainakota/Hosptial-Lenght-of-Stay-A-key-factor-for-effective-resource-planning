{
 "cells": [
  {
   "cell_type": "code",
   "execution_count": 1,
   "id": "aff76df5",
   "metadata": {},
   "outputs": [],
   "source": [
    "import numpy as np"
   ]
  },
  {
   "cell_type": "code",
   "execution_count": 2,
   "id": "b23124fa",
   "metadata": {},
   "outputs": [],
   "source": [
    "feature = []"
   ]
  },
  {
   "cell_type": "code",
   "execution_count": 3,
   "id": "3a93236d",
   "metadata": {},
   "outputs": [
    {
     "name": "stdout",
     "output_type": "stream",
     "text": [
      "Number of readmissions within last 180 days: 0\n"
     ]
    }
   ],
   "source": [
    "rcount = bool(input('Number of readmissions within last 180 days: '))\n",
    "feature.append(rcount)"
   ]
  },
  {
   "cell_type": "code",
   "execution_count": 4,
   "id": "dca76242",
   "metadata": {},
   "outputs": [
    {
     "name": "stdout",
     "output_type": "stream",
     "text": [
      "Gender of the patient - M or F: F\n"
     ]
    }
   ],
   "source": [
    "g = input('Gender of the patient - M or F: ')\n",
    "if g == 'M' or g == 'm':\n",
    "    g = 1\n",
    "elif g == 'F' or g == 'f':\n",
    "    g = 0 \n",
    "    \n",
    "feature.append(g)"
   ]
  },
  {
   "cell_type": "code",
   "execution_count": 5,
   "id": "410c87dc",
   "metadata": {},
   "outputs": [
    {
     "name": "stdout",
     "output_type": "stream",
     "text": [
      "Flag for renal disease during encounter: 0\n"
     ]
    }
   ],
   "source": [
    "dialysisrenalendstage = bool(input('Flag for renal disease during encounter: '))\n",
    "feature.append(dialysisrenalendstage)"
   ]
  },
  {
   "cell_type": "code",
   "execution_count": 6,
   "id": "9115117c",
   "metadata": {},
   "outputs": [
    {
     "name": "stdout",
     "output_type": "stream",
     "text": [
      "Flag for asthma during encounter: 0\n"
     ]
    }
   ],
   "source": [
    "asthma = bool(input('Flag for asthma during encounter: '))\n",
    "feature.append(asthma)"
   ]
  },
  {
   "cell_type": "code",
   "execution_count": 7,
   "id": "f6095d92",
   "metadata": {},
   "outputs": [
    {
     "name": "stdout",
     "output_type": "stream",
     "text": [
      "Flag for iron deficiency during encounter: 0\n"
     ]
    }
   ],
   "source": [
    "irondef = bool(input('Flag for iron deficiency during encounter: '))\n",
    "feature.append(irondef)"
   ]
  },
  {
   "cell_type": "code",
   "execution_count": 8,
   "id": "decdf495",
   "metadata": {},
   "outputs": [
    {
     "name": "stdout",
     "output_type": "stream",
     "text": [
      "Flag for pneumonia deficiency during encounter: 0\n"
     ]
    }
   ],
   "source": [
    "pneum = bool(input('Flag for pneumonia deficiency during encounter: '))\n",
    "feature.append(pneum)"
   ]
  },
  {
   "cell_type": "code",
   "execution_count": 9,
   "id": "d52a3e76",
   "metadata": {},
   "outputs": [
    {
     "name": "stdout",
     "output_type": "stream",
     "text": [
      "Flag for substance dependence during encounter 0\n"
     ]
    }
   ],
   "source": [
    "substancedependence = bool(input('Flag for substance dependence during encounter '))\n",
    "feature.append(substancedependence)"
   ]
  },
  {
   "cell_type": "code",
   "execution_count": 10,
   "id": "e4ee31b5",
   "metadata": {},
   "outputs": [
    {
     "name": "stdout",
     "output_type": "stream",
     "text": [
      "Flag for major psychological disorder during encounter 0\n"
     ]
    }
   ],
   "source": [
    "psychologicaldisordermajor = bool(input('Flag for major psychological disorder during encounter '))\n",
    "feature.append(psychologicaldisordermajor)"
   ]
  },
  {
   "cell_type": "code",
   "execution_count": 11,
   "id": "012c88b6",
   "metadata": {},
   "outputs": [
    {
     "name": "stdout",
     "output_type": "stream",
     "text": [
      "Flag for during encounter: 0\n"
     ]
    }
   ],
   "source": [
    "depress = bool(input('Flag for during encounter: '))\n",
    "feature.append(depress)"
   ]
  },
  {
   "cell_type": "code",
   "execution_count": 12,
   "id": "31f32d8b",
   "metadata": {},
   "outputs": [
    {
     "name": "stdout",
     "output_type": "stream",
     "text": [
      "Flag for psychological disorder during encounter: 0\n"
     ]
    }
   ],
   "source": [
    "psychother = bool(input('Flag for psychological disorder during encounter: '))\n",
    "feature.append(psychother)"
   ]
  },
  {
   "cell_type": "code",
   "execution_count": 13,
   "id": "494a9d8c",
   "metadata": {},
   "outputs": [
    {
     "name": "stdout",
     "output_type": "stream",
     "text": [
      "Flag for fibrosis during encounter: 0\n"
     ]
    }
   ],
   "source": [
    "fibrosisandother = bool(input('Flag for fibrosis during encounter: '))\n",
    "feature.append(fibrosisandother)"
   ]
  },
  {
   "cell_type": "code",
   "execution_count": 14,
   "id": "78829390",
   "metadata": {},
   "outputs": [
    {
     "name": "stdout",
     "output_type": "stream",
     "text": [
      "Flag for malnutrition during encounter: 0\n"
     ]
    }
   ],
   "source": [
    "malnutrition = bool(input('Flag for malnutrition during encounter: '))\n",
    "feature.append(malnutrition)"
   ]
  },
  {
   "cell_type": "code",
   "execution_count": 15,
   "id": "25812d81",
   "metadata": {},
   "outputs": [
    {
     "name": "stdout",
     "output_type": "stream",
     "text": [
      "Flag for blod disorder during encounter: 0\n"
     ]
    }
   ],
   "source": [
    "hemo = bool(input('Flag for blod disorder during encounter: '))\n",
    "feature.append(hemo)"
   ]
  },
  {
   "cell_type": "code",
   "execution_count": 16,
   "id": "9a55b58d",
   "metadata": {},
   "outputs": [
    {
     "name": "stdout",
     "output_type": "stream",
     "text": [
      "Average hematocrit value during encounter (g/dL): 11.5\n"
     ]
    }
   ],
   "source": [
    "hematocrit = float(input('Average hematocrit value during encounter (g/dL): '))\n",
    "feature.append(hematocrit)"
   ]
  },
  {
   "cell_type": "code",
   "execution_count": 17,
   "id": "e1472c24",
   "metadata": {},
   "outputs": [
    {
     "name": "stdout",
     "output_type": "stream",
     "text": [
      "Average neutrophils value during encounter (cells/microL): 14.2\n"
     ]
    }
   ],
   "source": [
    "neutrophils = float(input('Average neutrophils value during encounter (cells/microL): '))\n",
    "feature.append(neutrophils)"
   ]
  },
  {
   "cell_type": "code",
   "execution_count": 18,
   "id": "cc432a02",
   "metadata": {},
   "outputs": [
    {
     "name": "stdout",
     "output_type": "stream",
     "text": [
      "Average sodium value during encounter (mmol/L): 140.3611\n"
     ]
    }
   ],
   "source": [
    "sodium = float(input('Average sodium value during encounter (mmol/L): '))\n",
    "feature.append(sodium)"
   ]
  },
  {
   "cell_type": "code",
   "execution_count": 19,
   "id": "165a4eb5",
   "metadata": {},
   "outputs": [
    {
     "name": "stdout",
     "output_type": "stream",
     "text": [
      "Average sodium value during encounter (mmol/L): 192.3611\n"
     ]
    }
   ],
   "source": [
    "glucose = float(input('Average sodium value during encounter (mmol/L): '))\n",
    "feature.append(glucose)"
   ]
  },
  {
   "cell_type": "code",
   "execution_count": 20,
   "id": "9ff26d57",
   "metadata": {},
   "outputs": [
    {
     "name": "stdout",
     "output_type": "stream",
     "text": [
      "Average blood urea nitrogen value during encounter (mg/dL): 12\n"
     ]
    }
   ],
   "source": [
    "bloodureanitro = float(input('Average blood urea nitrogen value during encounter (mg/dL): '))\n",
    "feature.append(bloodureanitro)"
   ]
  },
  {
   "cell_type": "code",
   "execution_count": 21,
   "id": "7743c2f9",
   "metadata": {},
   "outputs": [
    {
     "name": "stdout",
     "output_type": "stream",
     "text": [
      "Average creatinine value during encounter (mg/dL) 1.390722\n"
     ]
    }
   ],
   "source": [
    "creatinine = float(input('Average creatinine value during encounter (mg/dL) '))\n",
    "feature.append(creatinine)"
   ]
  },
  {
   "cell_type": "code",
   "execution_count": 22,
   "id": "cbe1d9d5",
   "metadata": {},
   "outputs": [
    {
     "name": "stdout",
     "output_type": "stream",
     "text": [
      "Average BMI during encounter (kg/m2) :30.43242\n"
     ]
    }
   ],
   "source": [
    "bmi = float(input('Average BMI during encounter (kg/m2) :'))\n",
    "feature.append(bmi)"
   ]
  },
  {
   "cell_type": "code",
   "execution_count": 23,
   "id": "83bb5606",
   "metadata": {},
   "outputs": [
    {
     "name": "stdout",
     "output_type": "stream",
     "text": [
      "Average pulse during encounter (beats/m) :96\n"
     ]
    }
   ],
   "source": [
    "pulse = int(input('Average pulse during encounter (beats/m) :'))\n",
    "feature.append(pulse)"
   ]
  },
  {
   "cell_type": "code",
   "execution_count": 24,
   "id": "8733ccf2",
   "metadata": {},
   "outputs": [
    {
     "name": "stdout",
     "output_type": "stream",
     "text": [
      "Average respiration during encounter (breaths/m) :6.5\n"
     ]
    }
   ],
   "source": [
    "respiration = float(input('Average respiration during encounter (breaths/m) :'))\n",
    "feature.append(respiration)"
   ]
  },
  {
   "cell_type": "code",
   "execution_count": 25,
   "id": "368fba6d",
   "metadata": {},
   "outputs": [
    {
     "name": "stdout",
     "output_type": "stream",
     "text": [
      "Flag for whether a non ICD 9 formatted diagnosis was coded as a secondary diagnosis: 4\n"
     ]
    }
   ],
   "source": [
    "secondarydiagnosisnonicd9 = int(input('Flag for whether a non ICD 9 formatted diagnosis was coded as a secondary diagnosis: '))\n",
    "feature.append(secondarydiagnosisnonicd9)"
   ]
  },
  {
   "cell_type": "code",
   "execution_count": 3,
   "id": "01ada5ad",
   "metadata": {},
   "outputs": [],
   "source": [
    "feature = [0, 0, 0, 0, 0, 0, 0, 0, 0, 0, 0, 0, 0, 11.5, 14.2, 140.3611318, 192.4769177, 12, 1.390722238, 30.43241778, 96, 6.5, 4]\n",
    "feature = np.array(feature)\n",
    "feature = feature.reshape(-1,1)"
   ]
  },
  {
   "cell_type": "code",
   "execution_count": 4,
   "id": "3acd00ab",
   "metadata": {},
   "outputs": [],
   "source": [
    "data ={ 'rcount':feature[0] ,\n",
    "       'gender':feature[1],\n",
    "       'dialysisrenalendstage':feature[2] ,\n",
    "       'asthma':feature[3] ,\n",
    "       'irondef':feature[4] ,\n",
    "       'pneum':feature[5] ,\n",
    "       'substancedependence':feature[6] ,\n",
    "       'psychologicaldisordermajor':feature[7] ,\n",
    "       'depress':feature[8] ,\n",
    "       'psychother':feature[9] ,\n",
    "       'fibrosisandother':feature[10] ,\n",
    "       'malnutrition':feature[11] ,\n",
    "       'hemo':feature[12] ,\n",
    "       'hematocrit':feature[13] ,\n",
    "       'neutrophils':feature[14] ,\n",
    "       'sodium':feature[15] ,\n",
    "       'glucose':feature[16] ,\n",
    "       'bloodureanitro':feature[17] ,\n",
    "       'creatinine':feature[18] ,\n",
    "       'bmi':feature[19] ,\n",
    "       'pulse':feature[20] ,\n",
    "       'respiration':feature[21] ,\n",
    "       'secondarydiagnosisnonicd9':feature[22] ,\n",
    "}"
   ]
  },
  {
   "cell_type": "code",
   "execution_count": 5,
   "id": "3ad397e6",
   "metadata": {},
   "outputs": [],
   "source": [
    "import pandas as pd\n",
    "feature=pd.DataFrame(data)"
   ]
  },
  {
   "cell_type": "code",
   "execution_count": 6,
   "id": "c6e2b8ea",
   "metadata": {},
   "outputs": [],
   "source": [
    "import pickle\n",
    "# Load the Random Forest model from the pickle file\n",
    "with open('los_Ann.pkl', 'rb') as file:\n",
    "    rf_loaded = pickle.load(file)"
   ]
  },
  {
   "cell_type": "code",
   "execution_count": 7,
   "id": "e3ea929a",
   "metadata": {},
   "outputs": [
    {
     "name": "stdout",
     "output_type": "stream",
     "text": [
      "1/1 [==============================] - 0s 389ms/step\n"
     ]
    }
   ],
   "source": [
    "prediction = rf_loaded.predict(feature) "
   ]
  },
  {
   "cell_type": "code",
   "execution_count": 8,
   "id": "8ef849c4",
   "metadata": {},
   "outputs": [
    {
     "name": "stderr",
     "output_type": "stream",
     "text": [
      "C:\\Users\\ainak.YASWANTH\\AppData\\Local\\Temp\\ipykernel_17268\\316392884.py:1: DeprecationWarning: Conversion of an array with ndim > 0 to a scalar is deprecated, and will error in future. Ensure you extract a single element from your array before performing this operation. (Deprecated NumPy 1.25.)\n",
      "  prediction = int(prediction)\n"
     ]
    }
   ],
   "source": [
    "prediction = int(prediction)"
   ]
  },
  {
   "cell_type": "code",
   "execution_count": 9,
   "id": "fc5f25c6",
   "metadata": {},
   "outputs": [
    {
     "name": "stdout",
     "output_type": "stream",
     "text": [
      "The number of days:  2\n"
     ]
    }
   ],
   "source": [
    "print('The number of days: ', prediction)"
   ]
  },
  {
   "cell_type": "code",
   "execution_count": null,
   "id": "67eeb99f",
   "metadata": {},
   "outputs": [],
   "source": []
  }
 ],
 "metadata": {
  "kernelspec": {
   "display_name": "Python 3 (ipykernel)",
   "language": "python",
   "name": "python3"
  },
  "language_info": {
   "codemirror_mode": {
    "name": "ipython",
    "version": 3
   },
   "file_extension": ".py",
   "mimetype": "text/x-python",
   "name": "python",
   "nbconvert_exporter": "python",
   "pygments_lexer": "ipython3",
   "version": "3.11.4"
  }
 },
 "nbformat": 4,
 "nbformat_minor": 5
}
